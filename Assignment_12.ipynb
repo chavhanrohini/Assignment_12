{
 "cells": [
  {
   "cell_type": "markdown",
   "id": "4a5646fb",
   "metadata": {},
   "source": [
    "## 1. In what modes should the PdfFileReader() and PdfFileWriter() File objects be opened?\n",
    "\n",
    "   - `PdfFileReader()` should be opened in binary read mode, which is 'rb'.\n",
    "   - `PdfFileWriter()` should be opened in binary write mode, which is 'wb'.\n"
   ]
  },
  {
   "cell_type": "markdown",
   "id": "dcf004ab",
   "metadata": {},
   "source": [
    "## . From a PdfFileReader object, how do you get a Page object for page 5?\n",
    "\n",
    "   You can get a Page object for page 5 from a PdfFileReader object using the `getPage()` method with a zero-based index:\n",
    "   page = pdf_reader.getPage(4)  # Page 5 (index 4)\n"
   ]
  },
  {
   "cell_type": "markdown",
   "id": "d3988db0",
   "metadata": {},
   "source": [
    "## 3. What PdfFileReader variable stores the number of pages in the PDF document?\n",
    "\n",
    "   The variable `numPages` of a PdfFileReader object stores the number of pages in the PDF document.\n"
   ]
  },
  {
   "cell_type": "markdown",
   "id": "eb6cba61",
   "metadata": {},
   "source": [
    "## 4. If a PdfFileReader object’s PDF is encrypted with the password 'swordfish', what must you do before you can obtain Page objects from it?\n",
    "\n",
    "   Before obtaining Page objects from an encrypted PDF with the password 'swordfish', you must decrypt the PDF using the `decrypt()` method:\n",
    "\n",
    "\n",
    "   pdf_reader.decrypt('swordfish')\n",
    "\n"
   ]
  },
  {
   "cell_type": "markdown",
   "id": "2a4e8fdb",
   "metadata": {},
   "source": [
    "## 5. What methods do you use to rotate a page?\n",
    "\n",
    "   To rotate a page, you can use the `rotateClockwise()` and `rotateCounterClockwise()` methods on a Page object. For example, to rotate a page 90 degrees clockwise:\n",
    "\n",
    "   page.rotateClockwise(90)\n",
    "\n"
   ]
  },
  {
   "cell_type": "markdown",
   "id": "6e9f0ed2",
   "metadata": {},
   "source": [
    "## 6. What is the difference between a Run object and a Paragraph object?\n",
    "\n",
    "   In the context of working with Word documents using Python's `python-docx` library:\n",
    "   - A Paragraph object represents a single paragraph of text in a document.\n",
    "   - A Run object represents a contiguous run of text with the same style within a paragraph.\n"
   ]
  },
  {
   "cell_type": "markdown",
   "id": "d0f901fb",
   "metadata": {},
   "source": [
    "## 7. How do you obtain a list of Paragraph objects for a Document object that’s stored in a variable named doc?\n",
    "\n",
    "   You can obtain a list of Paragraph objects for a Document object using the `paragraphs` attribute:\n",
    "\n",
    "   paragraphs = doc.paragraphs\n"
   ]
  },
  {
   "cell_type": "markdown",
   "id": "89996143",
   "metadata": {},
   "source": [
    "## 8. What type of object has bold, underline, italic, strike, and outline variables?\n",
    "\n",
    "   The Run object in a Word document has variables such as `bold`, `underline`, `italic`, `strike`, and `outline` that allow you to manipulate text formatting.\n"
   ]
  },
  {
   "cell_type": "markdown",
   "id": "0e8b9abf",
   "metadata": {},
   "source": [
    "## 9. What is the difference between False, True, and None for the bold variable?\n",
    "\n",
    "   - False: Text is not bold.\n",
    "   - True: Text is bold.\n",
    "   - None: The bold property is inherited from the surrounding text. If the surrounding text is bold, it will be bold; if not, it won't be bold.\n"
   ]
  },
  {
   "cell_type": "markdown",
   "id": "517af95c",
   "metadata": {},
   "source": [
    "## 10. How do you create a Document object for a new Word document?\n",
    "\n",
    "    To create a Document object for a new Word document using the `python-docx` library, you can simply create a new instance of the `Document` class:\n",
    "\n",
    "    from docx import Document\n",
    "\n",
    "    doc = Document()\n"
   ]
  },
  {
   "cell_type": "markdown",
   "id": "a781d0a9",
   "metadata": {},
   "source": [
    "## 11. How do you add a paragraph with the text 'Hello, there!' to a Document object stored in a variable named doc?\n",
    "\n",
    "    To add a paragraph to a Document object, you can use the `add_paragraph()` method:\n",
    "\n",
    "\n",
    "    paragraph = doc.add_paragraph('Hello, there!')\n"
   ]
  },
  {
   "cell_type": "markdown",
   "id": "f30985ce",
   "metadata": {},
   "source": [
    "## 12. What integers represent the levels of headings available in Word documents?\n",
    "\n",
    "    In Word documents, headings are typically organized into levels, and they are often represented by integer values:\n",
    "    \n",
    "    - Heading 1 is usually represented by level 1.\n",
    "    - Heading 2 is represented by level 2.\n",
    "    - Heading 3 is represented by level 3.\n",
    "    - And so on...\n"
   ]
  },
  {
   "cell_type": "code",
   "execution_count": null,
   "id": "375ec6e7",
   "metadata": {},
   "outputs": [],
   "source": []
  },
  {
   "cell_type": "code",
   "execution_count": null,
   "id": "f4654b1c",
   "metadata": {},
   "outputs": [],
   "source": []
  },
  {
   "cell_type": "code",
   "execution_count": null,
   "id": "c7aee6c0",
   "metadata": {},
   "outputs": [],
   "source": []
  },
  {
   "cell_type": "code",
   "execution_count": null,
   "id": "a02f20bb",
   "metadata": {},
   "outputs": [],
   "source": []
  }
 ],
 "metadata": {
  "kernelspec": {
   "display_name": "Python 3 (ipykernel)",
   "language": "python",
   "name": "python3"
  },
  "language_info": {
   "codemirror_mode": {
    "name": "ipython",
    "version": 3
   },
   "file_extension": ".py",
   "mimetype": "text/x-python",
   "name": "python",
   "nbconvert_exporter": "python",
   "pygments_lexer": "ipython3",
   "version": "3.9.12"
  }
 },
 "nbformat": 4,
 "nbformat_minor": 5
}
